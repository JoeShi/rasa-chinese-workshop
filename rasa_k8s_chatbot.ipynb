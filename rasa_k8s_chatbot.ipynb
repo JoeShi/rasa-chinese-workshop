{
 "cells": [
  {
   "cell_type": "markdown",
   "metadata": {},
   "source": [
    "# RASA Chatbot 在 Kubernetes 中的部署实战\n",
    "\n",
    "在这个文章中，我们将 RASA Chatbot Server 部署到一个 Kubernetes 集群中。我们将使用 AWS 作为基础平台，\n",
    "在 AWS China Region，您可以选择使用 [nwcdlabs/kops-cn](https://github.com/nwcdlabs/kops-cn) 自建 K8S, \n",
    "在 AWS Global Region, 您可以直接选择使用托管的 K8S平台 [EKS](https://aws.amazon.com/eks/).\n",
    "\n",
    "## 在容器中运行 RASA\n",
    "需要了解如何在 K8S 中运行 RASA, 我们要首先了解如何在 docker 下运行 RASA 项目。RASA 支持将放置在\n",
    "\n",
    "```shell script\n",
    "docker run --env AWS_ACCESS_KEY_ID=<aws-access-key-id> \\\n",
    "--env AWS_SECRET_ACCESS_KEY=<aws-secret-access-key> \\\n",
    "--env AWS_DEFAULT_REGION=<aws-region> --env BUCKET_NAME=<bucket-name> \\\n",
    "-p 5005:5005 \\\n",
    "<docker-image>:latest \\\n",
    "run -m <model-name> \\\n",
    "--enable-api \\\n",
    "--remote-storage aws\n",
    "```"
   ]
  },
  {
   "cell_type": "code",
   "execution_count": null,
   "metadata": {},
   "outputs": [],
   "source": [
    "## 在"
   ]
  }
 ],
 "metadata": {
  "kernelspec": {
   "display_name": "Python 3",
   "language": "python",
   "name": "python3"
  },
  "language_info": {
   "codemirror_mode": {
    "name": "ipython",
    "version": 3
   },
   "file_extension": ".py",
   "mimetype": "text/x-python",
   "name": "python",
   "nbconvert_exporter": "python",
   "pygments_lexer": "ipython3",
   "version": "3.7.3"
  }
 },
 "nbformat": 4,
 "nbformat_minor": 4
}
